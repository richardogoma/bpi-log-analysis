{
 "cells": [
  {
   "cell_type": "markdown",
   "id": "13cfa6c6",
   "metadata": {},
   "source": [
    "# BPI Data Client Log Analysis\n",
    "Enabling logging in your program is equally as important as developing the program. Log files is an example of unstructured data, and analyzing your program log files can provide insight into the health and performance of your program.\n",
    "\n",
    "This analysis attempts to answer these questions: \n",
    "- How performant has the data streaming client been?\n",
    "- How many errors occured during the program's runtime?\n",
    "- The program is expected to run continuously every minute, has this been the case?"
   ]
  },
  {
   "cell_type": "code",
   "execution_count": 1,
   "id": "45839183",
   "metadata": {},
   "outputs": [
    {
     "name": "stdout",
     "output_type": "stream",
     "text": [
      "Requirement already satisfied: pandas in ./.venv/lib/python3.10/site-packages (2.0.3)\n",
      "Requirement already satisfied: python-dateutil>=2.8.2 in ./.venv/lib/python3.10/site-packages (from pandas) (2.8.2)\n",
      "Requirement already satisfied: pytz>=2020.1 in ./.venv/lib/python3.10/site-packages (from pandas) (2023.3)\n",
      "Requirement already satisfied: tzdata>=2022.1 in ./.venv/lib/python3.10/site-packages (from pandas) (2023.3)\n",
      "Requirement already satisfied: numpy>=1.21.0 in ./.venv/lib/python3.10/site-packages (from pandas) (1.25.0)\n",
      "Requirement already satisfied: six>=1.5 in ./.venv/lib/python3.10/site-packages (from python-dateutil>=2.8.2->pandas) (1.16.0)\n",
      "Requirement already satisfied: matplotlib in ./.venv/lib/python3.10/site-packages (3.7.2)\n",
      "Requirement already satisfied: contourpy>=1.0.1 in ./.venv/lib/python3.10/site-packages (from matplotlib) (1.1.0)\n",
      "Requirement already satisfied: cycler>=0.10 in ./.venv/lib/python3.10/site-packages (from matplotlib) (0.11.0)\n",
      "Requirement already satisfied: fonttools>=4.22.0 in ./.venv/lib/python3.10/site-packages (from matplotlib) (4.40.0)\n",
      "Requirement already satisfied: kiwisolver>=1.0.1 in ./.venv/lib/python3.10/site-packages (from matplotlib) (1.4.4)\n",
      "Requirement already satisfied: numpy>=1.20 in ./.venv/lib/python3.10/site-packages (from matplotlib) (1.25.0)\n",
      "Requirement already satisfied: packaging>=20.0 in ./.venv/lib/python3.10/site-packages (from matplotlib) (23.1)\n",
      "Requirement already satisfied: pillow>=6.2.0 in ./.venv/lib/python3.10/site-packages (from matplotlib) (10.0.0)\n",
      "Requirement already satisfied: pyparsing<3.1,>=2.3.1 in ./.venv/lib/python3.10/site-packages (from matplotlib) (3.0.9)\n",
      "Requirement already satisfied: python-dateutil>=2.7 in ./.venv/lib/python3.10/site-packages (from matplotlib) (2.8.2)\n",
      "Requirement already satisfied: six>=1.5 in ./.venv/lib/python3.10/site-packages (from python-dateutil>=2.7->matplotlib) (1.16.0)\n"
     ]
    }
   ],
   "source": [
    "%pip install pandas\n",
    "%pip install matplotlib"
   ]
  },
  {
   "cell_type": "code",
   "execution_count": 2,
   "id": "83651dbf",
   "metadata": {},
   "outputs": [],
   "source": [
    "import pandas as pd\n",
    "import matplotlib.pyplot as plt"
   ]
  },
  {
   "cell_type": "code",
   "execution_count": 3,
   "id": "30c943ed",
   "metadata": {},
   "outputs": [
    {
     "data": {
      "text/html": [
       "<div>\n",
       "<style scoped>\n",
       "    .dataframe tbody tr th:only-of-type {\n",
       "        vertical-align: middle;\n",
       "    }\n",
       "\n",
       "    .dataframe tbody tr th {\n",
       "        vertical-align: top;\n",
       "    }\n",
       "\n",
       "    .dataframe thead th {\n",
       "        text-align: right;\n",
       "    }\n",
       "</style>\n",
       "<table border=\"1\" class=\"dataframe\">\n",
       "  <thead>\n",
       "    <tr style=\"text-align: right;\">\n",
       "      <th></th>\n",
       "      <th>row</th>\n",
       "      <th>timestamp</th>\n",
       "      <th>log_type</th>\n",
       "      <th>duration</th>\n",
       "    </tr>\n",
       "  </thead>\n",
       "  <tbody>\n",
       "    <tr>\n",
       "      <th>0</th>\n",
       "      <td>1</td>\n",
       "      <td>2023-06-23 17:02</td>\n",
       "      <td>INFO</td>\n",
       "      <td>0.897626</td>\n",
       "    </tr>\n",
       "    <tr>\n",
       "      <th>1</th>\n",
       "      <td>2</td>\n",
       "      <td>2023-06-23 17:03</td>\n",
       "      <td>INFO</td>\n",
       "      <td>0.422284</td>\n",
       "    </tr>\n",
       "    <tr>\n",
       "      <th>2</th>\n",
       "      <td>3</td>\n",
       "      <td>2023-06-23 17:04</td>\n",
       "      <td>INFO</td>\n",
       "      <td>0.112622</td>\n",
       "    </tr>\n",
       "    <tr>\n",
       "      <th>3</th>\n",
       "      <td>4</td>\n",
       "      <td>2023-06-23 17:05</td>\n",
       "      <td>INFO</td>\n",
       "      <td>0.171625</td>\n",
       "    </tr>\n",
       "    <tr>\n",
       "      <th>4</th>\n",
       "      <td>5</td>\n",
       "      <td>2023-06-23 17:06</td>\n",
       "      <td>INFO</td>\n",
       "      <td>0.638440</td>\n",
       "    </tr>\n",
       "  </tbody>\n",
       "</table>\n",
       "</div>"
      ],
      "text/plain": [
       "   row         timestamp log_type  duration\n",
       "0    1  2023-06-23 17:02     INFO  0.897626\n",
       "1    2  2023-06-23 17:03     INFO  0.422284\n",
       "2    3  2023-06-23 17:04     INFO  0.112622\n",
       "3    4  2023-06-23 17:05     INFO  0.171625\n",
       "4    5  2023-06-23 17:06     INFO  0.638440"
      ]
     },
     "execution_count": 3,
     "metadata": {},
     "output_type": "execute_result"
    }
   ],
   "source": [
    "# Importing the dataset from CSV\n",
    "data = pd.read_csv('processed_log.csv')\n",
    "data.head()"
   ]
  },
  {
   "cell_type": "code",
   "execution_count": 4,
   "id": "3ed95299",
   "metadata": {},
   "outputs": [
    {
     "data": {
      "text/plain": [
       "row            int64\n",
       "timestamp     object\n",
       "log_type      object\n",
       "duration     float64\n",
       "dtype: object"
      ]
     },
     "execution_count": 4,
     "metadata": {},
     "output_type": "execute_result"
    }
   ],
   "source": [
    "# check the data type in pandas DataFrame\n",
    "data.dtypes"
   ]
  },
  {
   "cell_type": "code",
   "execution_count": 5,
   "id": "335669ce",
   "metadata": {},
   "outputs": [
    {
     "data": {
      "text/html": [
       "<div>\n",
       "<style scoped>\n",
       "    .dataframe tbody tr th:only-of-type {\n",
       "        vertical-align: middle;\n",
       "    }\n",
       "\n",
       "    .dataframe tbody tr th {\n",
       "        vertical-align: top;\n",
       "    }\n",
       "\n",
       "    .dataframe thead th {\n",
       "        text-align: right;\n",
       "    }\n",
       "</style>\n",
       "<table border=\"1\" class=\"dataframe\">\n",
       "  <thead>\n",
       "    <tr style=\"text-align: right;\">\n",
       "      <th></th>\n",
       "      <th>row</th>\n",
       "      <th>duration</th>\n",
       "    </tr>\n",
       "  </thead>\n",
       "  <tbody>\n",
       "    <tr>\n",
       "      <th>count</th>\n",
       "      <td>18731.000000</td>\n",
       "      <td>18720.000000</td>\n",
       "    </tr>\n",
       "    <tr>\n",
       "      <th>mean</th>\n",
       "      <td>9366.000000</td>\n",
       "      <td>0.442380</td>\n",
       "    </tr>\n",
       "    <tr>\n",
       "      <th>std</th>\n",
       "      <td>5407.318282</td>\n",
       "      <td>0.595650</td>\n",
       "    </tr>\n",
       "    <tr>\n",
       "      <th>min</th>\n",
       "      <td>1.000000</td>\n",
       "      <td>0.039291</td>\n",
       "    </tr>\n",
       "    <tr>\n",
       "      <th>25%</th>\n",
       "      <td>4683.500000</td>\n",
       "      <td>0.124821</td>\n",
       "    </tr>\n",
       "    <tr>\n",
       "      <th>50%</th>\n",
       "      <td>9366.000000</td>\n",
       "      <td>0.320136</td>\n",
       "    </tr>\n",
       "    <tr>\n",
       "      <th>75%</th>\n",
       "      <td>14048.500000</td>\n",
       "      <td>0.532238</td>\n",
       "    </tr>\n",
       "    <tr>\n",
       "      <th>max</th>\n",
       "      <td>18731.000000</td>\n",
       "      <td>9.806623</td>\n",
       "    </tr>\n",
       "  </tbody>\n",
       "</table>\n",
       "</div>"
      ],
      "text/plain": [
       "                row      duration\n",
       "count  18731.000000  18720.000000\n",
       "mean    9366.000000      0.442380\n",
       "std     5407.318282      0.595650\n",
       "min        1.000000      0.039291\n",
       "25%     4683.500000      0.124821\n",
       "50%     9366.000000      0.320136\n",
       "75%    14048.500000      0.532238\n",
       "max    18731.000000      9.806623"
      ]
     },
     "execution_count": 5,
     "metadata": {},
     "output_type": "execute_result"
    }
   ],
   "source": [
    "# data.describe(include='all')\n",
    "data.describe()"
   ]
  },
  {
   "cell_type": "markdown",
   "id": "f06812b0",
   "metadata": {},
   "source": [
    "## ETL process duration analysis"
   ]
  },
  {
   "cell_type": "code",
   "execution_count": 6,
   "id": "d9bedd33",
   "metadata": {},
   "outputs": [],
   "source": [
    "# Extracting the 'duration' column\n",
    "duration_values = data['duration']"
   ]
  },
  {
   "cell_type": "code",
   "execution_count": 7,
   "id": "344bbfed",
   "metadata": {},
   "outputs": [
    {
     "data": {
      "text/plain": [
       "count    18720.000000\n",
       "mean         0.442380\n",
       "std          0.595650\n",
       "min          0.039291\n",
       "25%          0.124821\n",
       "50%          0.320136\n",
       "75%          0.532238\n",
       "max          9.806623\n",
       "Name: duration, dtype: float64"
      ]
     },
     "execution_count": 7,
     "metadata": {},
     "output_type": "execute_result"
    }
   ],
   "source": [
    "# Basic descriptive statistics on the duration field\n",
    "duration_values.describe()"
   ]
  },
  {
   "cell_type": "code",
   "execution_count": 8,
   "id": "0d577364",
   "metadata": {},
   "outputs": [
    {
     "data": {
      "image/png": "[encoded data removed]",
      "text/plain": [
       "<Figure size 640x480 with 1 Axes>"
      ]
     },
     "metadata": {},
     "output_type": "display_data"
    }
   ],
   "source": [
    "# Plotting a histogram\n",
    "counts, bins, _ = plt.hist(duration_values, bins=10, edgecolor='black')\n",
    "\n",
    "# Finding the bin with the highest frequency\n",
    "max_count = max(counts)\n",
    "max_index = list(counts).index(max_count)\n",
    "max_bin = bins[max_index]\n",
    "\n",
    "# Adding data label for the bin with the highest frequency\n",
    "plt.text(max_bin, max_count, str(int(max_count)), ha='center')\n",
    "\n",
    "plt.xlabel('Bins')\n",
    "plt.ylabel('Frequency')\n",
    "plt.title('Distribution of Duration Values')\n",
    "plt.xticks(bins)  # Set the x-axis ticks to the bin values\n",
    "plt.show()"
   ]
  },
  {
   "cell_type": "code",
   "execution_count": 9,
   "id": "00ecd825",
   "metadata": {},
   "outputs": [
    {
     "name": "stdout",
     "output_type": "stream",
     "text": [
      "1.15 seconds\n"
     ]
    }
   ],
   "source": [
    "# the 95th percentile\n",
    "print(f\"{round(duration_values.quantile(0.95), 2)} seconds\")"
   ]
  },
  {
   "cell_type": "code",
   "execution_count": 10,
   "id": "0d66bb64",
   "metadata": {},
   "outputs": [
    {
     "data": {
      "image/png": "[encoded data removed]",
      "text/plain": [
       "<Figure size 640x480 with 1 Axes>"
      ]
     },
     "metadata": {},
     "output_type": "display_data"
    }
   ],
   "source": [
    "# Replace null values in duration_values with 0\n",
    "duration_values = duration_values.fillna(0)\n",
    "\n",
    "# Creating a boolean mask for all duration values within the 95th percentile\n",
    "mask = duration_values.loc[:] <= duration_values.quantile(0.95)\n",
    "box_df = duration_values.loc[mask]\n",
    "\n",
    "# Plotting a box and whisker plot\n",
    "plt.boxplot([box_df])\n",
    "plt.ylabel('Duration')\n",
    "plt.title('Box and Whisker Plot of Duration Values')\n",
    "plt.show()"
   ]
  },
  {
   "cell_type": "code",
   "execution_count": 11,
   "id": "70352d0e",
   "metadata": {},
   "outputs": [
    {
     "name": "stdout",
     "output_type": "stream",
     "text": [
      "duration\n",
      "<75th Percentile     14048\n",
      ">=75th Percentile     4683\n",
      "Name: duration, dtype: int64\n"
     ]
    }
   ],
   "source": [
    "# Calculate the quartiles\n",
    "q75 = duration_values.quantile(0.75)\n",
    "\n",
    "# Categorize the duration values into four groups\n",
    "category_labels = ['<75th Percentile', '>=75th Percentile']\n",
    "categories = pd.cut(duration_values, bins=[float('-inf'), q75, float('inf')], labels=category_labels)\n",
    "\n",
    "# Perform the count aggregation for each category\n",
    "duration_counts = categories.groupby(categories).size()\n",
    "\n",
    "# Print the duration counts for each category\n",
    "print(duration_counts)"
   ]
  },
  {
   "cell_type": "markdown",
   "id": "9ba9c52a",
   "metadata": {},
   "source": [
    "### Findings\n",
    "The ETL process `typically takes 0.32 seconds` to complete, with `75% of events taking less than 0.53 seconds` to complete. \n",
    "\n",
    "The distribution of duration values is `right skewed`, which is also evident comparing the mean and median values, i.e. `median < mean`. The range of `0.039 to 1.016` represents where the bulk of the duration values lie, with a higher concentration in that interval. \n",
    "\n",
    "**This suggests that the majority of events or processes represented by the duration values in the log dataset tend to have shorter durations,** with fewer instances of longer durations.\n"
   ]
  },
  {
   "cell_type": "markdown",
   "id": "60091ac0",
   "metadata": {},
   "source": [
    "## Process Errors"
   ]
  },
  {
   "cell_type": "code",
   "execution_count": 12,
   "id": "84752c88",
   "metadata": {},
   "outputs": [
    {
     "name": "stdout",
     "output_type": "stream",
     "text": [
      "         row         timestamp log_type  duration\n",
      "0          1  2023-06-23 17:02     INFO  0.897626\n",
      "18730  18731  2023-07-06 17:17     INFO  0.279002\n"
     ]
    }
   ],
   "source": [
    "result = pd.concat([data.head(1), data.tail(1)])\n",
    "print(result)"
   ]
  },
  {
   "cell_type": "code",
   "execution_count": 13,
   "id": "11ae615e",
   "metadata": {},
   "outputs": [
    {
     "data": {
      "text/plain": [
       "log_type\n",
       "INFO    18720\n",
       "dtype: int64"
      ]
     },
     "execution_count": 13,
     "metadata": {},
     "output_type": "execute_result"
    }
   ],
   "source": [
    "data.groupby('log_type').size()"
   ]
  },
  {
   "cell_type": "markdown",
   "id": "d9db8f17",
   "metadata": {},
   "source": [
    "### Findings\n",
    "The analysis was conducted with log entries within `2023-06-23 17:02` and `2023-06-23 17:02` GMT, and no errors have been recorded during the program's runtime. "
   ]
  },
  {
   "cell_type": "markdown",
   "id": "f6042657",
   "metadata": {},
   "source": [
    "## Process Runtime Intervals\n",
    "The program is expected to run continuously every minute, has this been the case? We have to investigate if the timestamps in the dataframe are continuous. "
   ]
  },
  {
   "cell_type": "code",
   "execution_count": 14,
   "id": "02fea55f",
   "metadata": {},
   "outputs": [
    {
     "data": {
      "text/html": [
       "<div>\n",
       "<style scoped>\n",
       "    .dataframe tbody tr th:only-of-type {\n",
       "        vertical-align: middle;\n",
       "    }\n",
       "\n",
       "    .dataframe tbody tr th {\n",
       "        vertical-align: top;\n",
       "    }\n",
       "\n",
       "    .dataframe thead th {\n",
       "        text-align: right;\n",
       "    }\n",
       "</style>\n",
       "<table border=\"1\" class=\"dataframe\">\n",
       "  <thead>\n",
       "    <tr style=\"text-align: right;\">\n",
       "      <th></th>\n",
       "      <th>row</th>\n",
       "      <th>timestamp</th>\n",
       "      <th>log_type</th>\n",
       "      <th>duration</th>\n",
       "    </tr>\n",
       "  </thead>\n",
       "  <tbody>\n",
       "    <tr>\n",
       "      <th>0</th>\n",
       "      <td>1</td>\n",
       "      <td>2023-06-23 17:02</td>\n",
       "      <td>INFO</td>\n",
       "      <td>0.897626</td>\n",
       "    </tr>\n",
       "    <tr>\n",
       "      <th>1</th>\n",
       "      <td>2</td>\n",
       "      <td>2023-06-23 17:03</td>\n",
       "      <td>INFO</td>\n",
       "      <td>0.422284</td>\n",
       "    </tr>\n",
       "    <tr>\n",
       "      <th>2</th>\n",
       "      <td>3</td>\n",
       "      <td>2023-06-23 17:04</td>\n",
       "      <td>INFO</td>\n",
       "      <td>0.112622</td>\n",
       "    </tr>\n",
       "  </tbody>\n",
       "</table>\n",
       "</div>"
      ],
      "text/plain": [
       "   row         timestamp log_type  duration\n",
       "0    1  2023-06-23 17:02     INFO  0.897626\n",
       "1    2  2023-06-23 17:03     INFO  0.422284\n",
       "2    3  2023-06-23 17:04     INFO  0.112622"
      ]
     },
     "execution_count": 14,
     "metadata": {},
     "output_type": "execute_result"
    }
   ],
   "source": [
    "new_df = data\n",
    "new_df.head(3)"
   ]
  },
  {
   "cell_type": "code",
   "execution_count": 15,
   "id": "f5153abc",
   "metadata": {},
   "outputs": [
    {
     "name": "stdout",
     "output_type": "stream",
     "text": [
      "11 rows dropped\n"
     ]
    }
   ],
   "source": [
    "# Sort the dataframe by timestamp\n",
    "new_df = new_df.sort_values(\"timestamp\")\n",
    "\n",
    "# Drop null values from dataframe\n",
    "new_df = new_df.dropna()\n",
    "print(f\"{data['row'].count() - new_df['row'].count()} rows dropped\")"
   ]
  },
  {
   "cell_type": "code",
   "execution_count": 16,
   "id": "73712c66",
   "metadata": {},
   "outputs": [
    {
     "data": {
      "text/plain": [
       "row                   int64\n",
       "timestamp    datetime64[ns]\n",
       "log_type             object\n",
       "duration            float64\n",
       "dtype: object"
      ]
     },
     "execution_count": 16,
     "metadata": {},
     "output_type": "execute_result"
    }
   ],
   "source": [
    "# Convert timestamp column to datetime type\n",
    "new_df[\"timestamp\"] = pd.to_datetime(new_df[\"timestamp\"])\n",
    "new_df.dtypes"
   ]
  },
  {
   "cell_type": "code",
   "execution_count": 17,
   "id": "1e87df32",
   "metadata": {},
   "outputs": [
    {
     "data": {
      "text/plain": [
       "0   2023-06-23 17:02:00\n",
       "1   2023-06-23 17:03:00\n",
       "Name: timestamp, dtype: datetime64[ns]"
      ]
     },
     "execution_count": 17,
     "metadata": {},
     "output_type": "execute_result"
    }
   ],
   "source": [
    "new_df['timestamp'].head(2)"
   ]
  },
  {
   "cell_type": "code",
   "execution_count": 18,
   "id": "1cad8c02",
   "metadata": {},
   "outputs": [
    {
     "data": {
      "text/plain": [
       "Timedelta('0 days 00:01:00')"
      ]
     },
     "execution_count": 18,
     "metadata": {},
     "output_type": "execute_result"
    }
   ],
   "source": [
    "# Calculate the expected time difference\n",
    "expected_diff = new_df[\"timestamp\"].diff().median()\n",
    "expected_diff"
   ]
  },
  {
   "cell_type": "code",
   "execution_count": 19,
   "id": "9d9caa6f",
   "metadata": {},
   "outputs": [
    {
     "name": "stdout",
     "output_type": "stream",
     "text": [
      "The timestamps are not continuous.\n"
     ]
    }
   ],
   "source": [
    "# Check for continuity\n",
    "is_continuous = new_df[\"timestamp\"].diff()[1:] == expected_diff\n",
    "if is_continuous.all():\n",
    "    print(\"The timestamps are continuous.\")\n",
    "else:\n",
    "    print(\"The timestamps are not continuous.\")"
   ]
  },
  {
   "cell_type": "code",
   "execution_count": 20,
   "id": "0119c8f9",
   "metadata": {},
   "outputs": [
    {
     "data": {
      "text/html": [
       "<div>\n",
       "<style scoped>\n",
       "    .dataframe tbody tr th:only-of-type {\n",
       "        vertical-align: middle;\n",
       "    }\n",
       "\n",
       "    .dataframe tbody tr th {\n",
       "        vertical-align: top;\n",
       "    }\n",
       "\n",
       "    .dataframe thead th {\n",
       "        text-align: right;\n",
       "    }\n",
       "</style>\n",
       "<table border=\"1\" class=\"dataframe\">\n",
       "  <thead>\n",
       "    <tr style=\"text-align: right;\">\n",
       "      <th></th>\n",
       "      <th>row</th>\n",
       "      <th>timestamp</th>\n",
       "      <th>log_type</th>\n",
       "      <th>duration</th>\n",
       "      <th>flag</th>\n",
       "    </tr>\n",
       "  </thead>\n",
       "  <tbody>\n",
       "    <tr>\n",
       "      <th>4066</th>\n",
       "      <td>4067</td>\n",
       "      <td>2023-06-26 12:49:00</td>\n",
       "      <td>INFO</td>\n",
       "      <td>0.533864</td>\n",
       "      <td>Non-continuous</td>\n",
       "    </tr>\n",
       "    <tr>\n",
       "      <th>5420</th>\n",
       "      <td>5421</td>\n",
       "      <td>2023-06-27 11:24:00</td>\n",
       "      <td>INFO</td>\n",
       "      <td>0.626278</td>\n",
       "      <td>Non-continuous</td>\n",
       "    </tr>\n",
       "    <tr>\n",
       "      <th>8670</th>\n",
       "      <td>8671</td>\n",
       "      <td>2023-06-29 17:30:00</td>\n",
       "      <td>INFO</td>\n",
       "      <td>1.274357</td>\n",
       "      <td>Non-continuous</td>\n",
       "    </tr>\n",
       "    <tr>\n",
       "      <th>8672</th>\n",
       "      <td>8673</td>\n",
       "      <td>2023-06-29 17:32:00</td>\n",
       "      <td>INFO</td>\n",
       "      <td>0.576249</td>\n",
       "      <td>Non-continuous</td>\n",
       "    </tr>\n",
       "    <tr>\n",
       "      <th>10816</th>\n",
       "      <td>10817</td>\n",
       "      <td>2023-07-01 05:14:00</td>\n",
       "      <td>INFO</td>\n",
       "      <td>0.980047</td>\n",
       "      <td>Non-continuous</td>\n",
       "    </tr>\n",
       "    <tr>\n",
       "      <th>10818</th>\n",
       "      <td>10819</td>\n",
       "      <td>2023-07-01 05:16:00</td>\n",
       "      <td>INFO</td>\n",
       "      <td>0.854864</td>\n",
       "      <td>Non-continuous</td>\n",
       "    </tr>\n",
       "    <tr>\n",
       "      <th>14091</th>\n",
       "      <td>14092</td>\n",
       "      <td>2023-07-03 11:51:00</td>\n",
       "      <td>INFO</td>\n",
       "      <td>0.429191</td>\n",
       "      <td>Non-continuous</td>\n",
       "    </tr>\n",
       "    <tr>\n",
       "      <th>16214</th>\n",
       "      <td>16215</td>\n",
       "      <td>2023-07-04 23:17:00</td>\n",
       "      <td>INFO</td>\n",
       "      <td>0.258268</td>\n",
       "      <td>Non-continuous</td>\n",
       "    </tr>\n",
       "    <tr>\n",
       "      <th>18619</th>\n",
       "      <td>18620</td>\n",
       "      <td>2023-07-06 15:26:00</td>\n",
       "      <td>INFO</td>\n",
       "      <td>0.323946</td>\n",
       "      <td>Non-continuous</td>\n",
       "    </tr>\n",
       "  </tbody>\n",
       "</table>\n",
       "</div>"
      ],
      "text/plain": [
       "         row           timestamp log_type  duration            flag\n",
       "4066    4067 2023-06-26 12:49:00     INFO  0.533864  Non-continuous\n",
       "5420    5421 2023-06-27 11:24:00     INFO  0.626278  Non-continuous\n",
       "8670    8671 2023-06-29 17:30:00     INFO  1.274357  Non-continuous\n",
       "8672    8673 2023-06-29 17:32:00     INFO  0.576249  Non-continuous\n",
       "10816  10817 2023-07-01 05:14:00     INFO  0.980047  Non-continuous\n",
       "10818  10819 2023-07-01 05:16:00     INFO  0.854864  Non-continuous\n",
       "14091  14092 2023-07-03 11:51:00     INFO  0.429191  Non-continuous\n",
       "16214  16215 2023-07-04 23:17:00     INFO  0.258268  Non-continuous\n",
       "18619  18620 2023-07-06 15:26:00     INFO  0.323946  Non-continuous"
      ]
     },
     "execution_count": 20,
     "metadata": {},
     "output_type": "execute_result"
    }
   ],
   "source": [
    "# Identify rows with non-continuous timestamps\n",
    "is_continuous = new_df[\"timestamp\"].diff() == expected_diff\n",
    "non_continuous_rows = new_df.loc[~is_continuous]\n",
    "non_continuous_rows = non_continuous_rows[non_continuous_rows.index != 0]\n",
    "non_continuous_rows.insert(4, 'flag', 'Non-continuous', True)\n",
    "non_continuous_rows"
   ]
  },
  {
   "cell_type": "code",
   "execution_count": 21,
   "id": "7d43e9b8",
   "metadata": {},
   "outputs": [
    {
     "data": {
      "text/html": [
       "<div>\n",
       "<style scoped>\n",
       "    .dataframe tbody tr th:only-of-type {\n",
       "        vertical-align: middle;\n",
       "    }\n",
       "\n",
       "    .dataframe tbody tr th {\n",
       "        vertical-align: top;\n",
       "    }\n",
       "\n",
       "    .dataframe thead th {\n",
       "        text-align: right;\n",
       "    }\n",
       "</style>\n",
       "<table border=\"1\" class=\"dataframe\">\n",
       "  <thead>\n",
       "    <tr style=\"text-align: right;\">\n",
       "      <th></th>\n",
       "      <th>row</th>\n",
       "      <th>timestamp</th>\n",
       "      <th>log_type</th>\n",
       "      <th>duration</th>\n",
       "      <th>flag</th>\n",
       "    </tr>\n",
       "  </thead>\n",
       "  <tbody>\n",
       "    <tr>\n",
       "      <th>4065</th>\n",
       "      <td>4066</td>\n",
       "      <td>2023-06-26 12:47:00</td>\n",
       "      <td>INFO</td>\n",
       "      <td>1.412562</td>\n",
       "      <td>Preceding</td>\n",
       "    </tr>\n",
       "    <tr>\n",
       "      <th>5419</th>\n",
       "      <td>5420</td>\n",
       "      <td>2023-06-27 11:22:00</td>\n",
       "      <td>INFO</td>\n",
       "      <td>0.272424</td>\n",
       "      <td>Preceding</td>\n",
       "    </tr>\n",
       "    <tr>\n",
       "      <th>8669</th>\n",
       "      <td>8670</td>\n",
       "      <td>NaT</td>\n",
       "      <td>NaN</td>\n",
       "      <td>NaN</td>\n",
       "      <td>Preceding</td>\n",
       "    </tr>\n",
       "    <tr>\n",
       "      <th>8671</th>\n",
       "      <td>8672</td>\n",
       "      <td>NaT</td>\n",
       "      <td>NaN</td>\n",
       "      <td>NaN</td>\n",
       "      <td>Preceding</td>\n",
       "    </tr>\n",
       "    <tr>\n",
       "      <th>10815</th>\n",
       "      <td>10816</td>\n",
       "      <td>NaT</td>\n",
       "      <td>NaN</td>\n",
       "      <td>NaN</td>\n",
       "      <td>Preceding</td>\n",
       "    </tr>\n",
       "    <tr>\n",
       "      <th>10817</th>\n",
       "      <td>10818</td>\n",
       "      <td>NaT</td>\n",
       "      <td>NaN</td>\n",
       "      <td>NaN</td>\n",
       "      <td>Preceding</td>\n",
       "    </tr>\n",
       "    <tr>\n",
       "      <th>14090</th>\n",
       "      <td>14091</td>\n",
       "      <td>2023-07-03 11:47:00</td>\n",
       "      <td>INFO</td>\n",
       "      <td>0.079156</td>\n",
       "      <td>Preceding</td>\n",
       "    </tr>\n",
       "    <tr>\n",
       "      <th>16213</th>\n",
       "      <td>16214</td>\n",
       "      <td>2023-07-04 23:13:00</td>\n",
       "      <td>INFO</td>\n",
       "      <td>0.241826</td>\n",
       "      <td>Preceding</td>\n",
       "    </tr>\n",
       "    <tr>\n",
       "      <th>18618</th>\n",
       "      <td>18619</td>\n",
       "      <td>2023-07-06 15:21:00</td>\n",
       "      <td>INFO</td>\n",
       "      <td>0.232752</td>\n",
       "      <td>Preceding</td>\n",
       "    </tr>\n",
       "  </tbody>\n",
       "</table>\n",
       "</div>"
      ],
      "text/plain": [
       "         row           timestamp log_type  duration       flag\n",
       "4065    4066 2023-06-26 12:47:00     INFO  1.412562  Preceding\n",
       "5419    5420 2023-06-27 11:22:00     INFO  0.272424  Preceding\n",
       "8669    8670                 NaT      NaN       NaN  Preceding\n",
       "8671    8672                 NaT      NaN       NaN  Preceding\n",
       "10815  10816                 NaT      NaN       NaN  Preceding\n",
       "10817  10818                 NaT      NaN       NaN  Preceding\n",
       "14090  14091 2023-07-03 11:47:00     INFO  0.079156  Preceding\n",
       "16213  16214 2023-07-04 23:13:00     INFO  0.241826  Preceding\n",
       "18618  18619 2023-07-06 15:21:00     INFO  0.232752  Preceding"
      ]
     },
     "execution_count": 21,
     "metadata": {},
     "output_type": "execute_result"
    }
   ],
   "source": [
    "# Masking out the preceding non-continuous timestamp rows from the original dataframe\n",
    "preceding_indices = [(index - 1) for index in new_df.loc[~is_continuous].index if index != 0]\n",
    "preceding_rows = data.loc[preceding_indices]\n",
    "preceding_rows.insert(4, 'flag', 'Preceding', True)\n",
    "preceding_rows[\"timestamp\"] = pd.to_datetime(preceding_rows[\"timestamp\"])\n",
    "preceding_rows"
   ]
  },
  {
   "cell_type": "code",
   "execution_count": 22,
   "id": "854614ee",
   "metadata": {},
   "outputs": [
    {
     "data": {
      "text/html": [
       "<div>\n",
       "<style scoped>\n",
       "    .dataframe tbody tr th:only-of-type {\n",
       "        vertical-align: middle;\n",
       "    }\n",
       "\n",
       "    .dataframe tbody tr th {\n",
       "        vertical-align: top;\n",
       "    }\n",
       "\n",
       "    .dataframe thead th {\n",
       "        text-align: right;\n",
       "    }\n",
       "</style>\n",
       "<table border=\"1\" class=\"dataframe\">\n",
       "  <thead>\n",
       "    <tr style=\"text-align: right;\">\n",
       "      <th></th>\n",
       "      <th>row</th>\n",
       "      <th>timestamp</th>\n",
       "      <th>log_type</th>\n",
       "      <th>duration</th>\n",
       "      <th>flag</th>\n",
       "    </tr>\n",
       "  </thead>\n",
       "  <tbody>\n",
       "    <tr>\n",
       "      <th>4065</th>\n",
       "      <td>4066</td>\n",
       "      <td>2023-06-26 12:47:00</td>\n",
       "      <td>INFO</td>\n",
       "      <td>1.412562</td>\n",
       "      <td>Preceding</td>\n",
       "    </tr>\n",
       "    <tr>\n",
       "      <th>4066</th>\n",
       "      <td>4067</td>\n",
       "      <td>2023-06-26 12:49:00</td>\n",
       "      <td>INFO</td>\n",
       "      <td>0.533864</td>\n",
       "      <td>Non-continuous</td>\n",
       "    </tr>\n",
       "    <tr>\n",
       "      <th>5419</th>\n",
       "      <td>5420</td>\n",
       "      <td>2023-06-27 11:22:00</td>\n",
       "      <td>INFO</td>\n",
       "      <td>0.272424</td>\n",
       "      <td>Preceding</td>\n",
       "    </tr>\n",
       "    <tr>\n",
       "      <th>5420</th>\n",
       "      <td>5421</td>\n",
       "      <td>2023-06-27 11:24:00</td>\n",
       "      <td>INFO</td>\n",
       "      <td>0.626278</td>\n",
       "      <td>Non-continuous</td>\n",
       "    </tr>\n",
       "    <tr>\n",
       "      <th>8669</th>\n",
       "      <td>8670</td>\n",
       "      <td>NaT</td>\n",
       "      <td>NaN</td>\n",
       "      <td>NaN</td>\n",
       "      <td>Preceding</td>\n",
       "    </tr>\n",
       "    <tr>\n",
       "      <th>8670</th>\n",
       "      <td>8671</td>\n",
       "      <td>2023-06-29 17:30:00</td>\n",
       "      <td>INFO</td>\n",
       "      <td>1.274357</td>\n",
       "      <td>Non-continuous</td>\n",
       "    </tr>\n",
       "    <tr>\n",
       "      <th>8671</th>\n",
       "      <td>8672</td>\n",
       "      <td>NaT</td>\n",
       "      <td>NaN</td>\n",
       "      <td>NaN</td>\n",
       "      <td>Preceding</td>\n",
       "    </tr>\n",
       "    <tr>\n",
       "      <th>8672</th>\n",
       "      <td>8673</td>\n",
       "      <td>2023-06-29 17:32:00</td>\n",
       "      <td>INFO</td>\n",
       "      <td>0.576249</td>\n",
       "      <td>Non-continuous</td>\n",
       "    </tr>\n",
       "    <tr>\n",
       "      <th>10815</th>\n",
       "      <td>10816</td>\n",
       "      <td>NaT</td>\n",
       "      <td>NaN</td>\n",
       "      <td>NaN</td>\n",
       "      <td>Preceding</td>\n",
       "    </tr>\n",
       "    <tr>\n",
       "      <th>10816</th>\n",
       "      <td>10817</td>\n",
       "      <td>2023-07-01 05:14:00</td>\n",
       "      <td>INFO</td>\n",
       "      <td>0.980047</td>\n",
       "      <td>Non-continuous</td>\n",
       "    </tr>\n",
       "    <tr>\n",
       "      <th>10817</th>\n",
       "      <td>10818</td>\n",
       "      <td>NaT</td>\n",
       "      <td>NaN</td>\n",
       "      <td>NaN</td>\n",
       "      <td>Preceding</td>\n",
       "    </tr>\n",
       "    <tr>\n",
       "      <th>10818</th>\n",
       "      <td>10819</td>\n",
       "      <td>2023-07-01 05:16:00</td>\n",
       "      <td>INFO</td>\n",
       "      <td>0.854864</td>\n",
       "      <td>Non-continuous</td>\n",
       "    </tr>\n",
       "    <tr>\n",
       "      <th>14090</th>\n",
       "      <td>14091</td>\n",
       "      <td>2023-07-03 11:47:00</td>\n",
       "      <td>INFO</td>\n",
       "      <td>0.079156</td>\n",
       "      <td>Preceding</td>\n",
       "    </tr>\n",
       "    <tr>\n",
       "      <th>14091</th>\n",
       "      <td>14092</td>\n",
       "      <td>2023-07-03 11:51:00</td>\n",
       "      <td>INFO</td>\n",
       "      <td>0.429191</td>\n",
       "      <td>Non-continuous</td>\n",
       "    </tr>\n",
       "    <tr>\n",
       "      <th>16213</th>\n",
       "      <td>16214</td>\n",
       "      <td>2023-07-04 23:13:00</td>\n",
       "      <td>INFO</td>\n",
       "      <td>0.241826</td>\n",
       "      <td>Preceding</td>\n",
       "    </tr>\n",
       "    <tr>\n",
       "      <th>16214</th>\n",
       "      <td>16215</td>\n",
       "      <td>2023-07-04 23:17:00</td>\n",
       "      <td>INFO</td>\n",
       "      <td>0.258268</td>\n",
       "      <td>Non-continuous</td>\n",
       "    </tr>\n",
       "    <tr>\n",
       "      <th>18618</th>\n",
       "      <td>18619</td>\n",
       "      <td>2023-07-06 15:21:00</td>\n",
       "      <td>INFO</td>\n",
       "      <td>0.232752</td>\n",
       "      <td>Preceding</td>\n",
       "    </tr>\n",
       "    <tr>\n",
       "      <th>18619</th>\n",
       "      <td>18620</td>\n",
       "      <td>2023-07-06 15:26:00</td>\n",
       "      <td>INFO</td>\n",
       "      <td>0.323946</td>\n",
       "      <td>Non-continuous</td>\n",
       "    </tr>\n",
       "  </tbody>\n",
       "</table>\n",
       "</div>"
      ],
      "text/plain": [
       "         row           timestamp log_type  duration            flag\n",
       "4065    4066 2023-06-26 12:47:00     INFO  1.412562       Preceding\n",
       "4066    4067 2023-06-26 12:49:00     INFO  0.533864  Non-continuous\n",
       "5419    5420 2023-06-27 11:22:00     INFO  0.272424       Preceding\n",
       "5420    5421 2023-06-27 11:24:00     INFO  0.626278  Non-continuous\n",
       "8669    8670                 NaT      NaN       NaN       Preceding\n",
       "8670    8671 2023-06-29 17:30:00     INFO  1.274357  Non-continuous\n",
       "8671    8672                 NaT      NaN       NaN       Preceding\n",
       "8672    8673 2023-06-29 17:32:00     INFO  0.576249  Non-continuous\n",
       "10815  10816                 NaT      NaN       NaN       Preceding\n",
       "10816  10817 2023-07-01 05:14:00     INFO  0.980047  Non-continuous\n",
       "10817  10818                 NaT      NaN       NaN       Preceding\n",
       "10818  10819 2023-07-01 05:16:00     INFO  0.854864  Non-continuous\n",
       "14090  14091 2023-07-03 11:47:00     INFO  0.079156       Preceding\n",
       "14091  14092 2023-07-03 11:51:00     INFO  0.429191  Non-continuous\n",
       "16213  16214 2023-07-04 23:13:00     INFO  0.241826       Preceding\n",
       "16214  16215 2023-07-04 23:17:00     INFO  0.258268  Non-continuous\n",
       "18618  18619 2023-07-06 15:21:00     INFO  0.232752       Preceding\n",
       "18619  18620 2023-07-06 15:26:00     INFO  0.323946  Non-continuous"
      ]
     },
     "execution_count": 22,
     "metadata": {},
     "output_type": "execute_result"
    }
   ],
   "source": [
    "result = pd.concat([non_continuous_rows, preceding_rows])\n",
    "result.sort_values(\"row\")"
   ]
  },
  {
   "cell_type": "markdown",
   "id": "c4c7d3d6",
   "metadata": {},
   "source": [
    "### Findings\n",
    "There are **only 9 instances of discontinuous timestamps out of 18,731 recorded events.** Although, it is clear that the timestamps are not continuous, but the degree of discontinuity is infinitesimal. \n",
    "\n",
    "It is also unclear if there was a logging error, as some preceding timestamps are `NaT` or were not captured or correctly parsed. This reduces the number of clear and recorded incidences to 5. \n",
    "\n",
    "So we can conclude that **the program runs continuously every minute for most of the time.**"
   ]
  }
 ],
 "metadata": {
  "kernelspec": {
   "display_name": "Python 3 (ipykernel)",
   "language": "python",
   "name": "python3"
  },
  "language_info": {
   "codemirror_mode": {
    "name": "ipython",
    "version": 3
   },
   "file_extension": ".py",
   "mimetype": "text/x-python",
   "name": "python",
   "nbconvert_exporter": "python",
   "pygments_lexer": "ipython3",
   "version": "3.10.6"
  }
 },
 "nbformat": 4,
 "nbformat_minor": 5
}
